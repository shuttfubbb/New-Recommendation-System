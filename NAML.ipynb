{
  "cells": [
    {
      "cell_type": "code",
      "source": [
        "import tensorflow as tf\n",
        "print(tf.__version__)"
      ],
      "metadata": {
        "colab": {
          "base_uri": "https://localhost:8080/"
        },
        "id": "3bLANDJYFQub",
        "outputId": "747c9210-10d9-4742-b781-55c970426de6"
      },
      "execution_count": null,
      "outputs": [
        {
          "output_type": "stream",
          "name": "stdout",
          "text": [
            "2.15.0\n"
          ]
        }
      ]
    },
    {
      "cell_type": "markdown",
      "metadata": {
        "id": "Vc9k0ydD_7Ub"
      },
      "source": [
        "# Nhập thư viện"
      ]
    },
    {
      "cell_type": "code",
      "source": [
        "from google.colab import drive\n",
        "drive.mount('/content/drive')"
      ],
      "metadata": {
        "colab": {
          "base_uri": "https://localhost:8080/"
        },
        "id": "3bx0bskA7KKt",
        "outputId": "6b51e6ed-f170-463a-a7a9-cd8be28165a3"
      },
      "execution_count": null,
      "outputs": [
        {
          "output_type": "stream",
          "name": "stdout",
          "text": [
            "Mounted at /content/drive\n"
          ]
        }
      ]
    },
    {
      "cell_type": "code",
      "execution_count": null,
      "metadata": {
        "id": "Btmiv-uLAvYg"
      },
      "outputs": [],
      "source": [
        "import os\n",
        "\n",
        "os.environ[\"TF_CPP_MIN_LOG_LEVEL\"] = \"2\"\n",
        "import random\n",
        "import numpy as np\n",
        "import pandas as pd\n",
        "import tensorflow as tf\n",
        "from tensorflow import keras\n",
        "from tensorflow.keras.models import Sequential, Model\n",
        "from tensorflow.keras.layers import *\n",
        "import tensorflow.keras.backend as K"
      ]
    },
    {
      "cell_type": "code",
      "execution_count": null,
      "metadata": {
        "id": "zSOTbcVAY2QB"
      },
      "outputs": [],
      "source": [
        "# physical_devices = tf.config.list_physical_devices(\"GPU\")\n",
        "# tf.config.experimental.set_memory_growth(physical_devices[0], True)"
      ]
    },
    {
      "cell_type": "markdown",
      "metadata": {
        "id": "32q_YAHKAJZK"
      },
      "source": [
        "#Lấy và Show Data"
      ]
    },
    {
      "cell_type": "code",
      "execution_count": null,
      "metadata": {
        "id": "y1b4Laa9k6mp"
      },
      "outputs": [],
      "source": [
        "import os\n",
        "from nltk.tokenize import word_tokenize\n",
        "from tensorflow.keras.preprocessing.text import text_to_word_sequence\n",
        "import re"
      ]
    },
    {
      "cell_type": "code",
      "execution_count": null,
      "metadata": {
        "id": "cVtgKeFueGW5"
      },
      "outputs": [],
      "source": [
        "def preprocess_and_convert_to_list(series):\n",
        "    # Chuyển đổi các chuỗi thành viết thường và loại bỏ dấu câu\n",
        "    def preprocess_text(text):\n",
        "        text_lower = text.lower()  # Chuyển thành lowercase\n",
        "        text_no_punctuation = re.sub(r'[^\\w\\s]', '', text_lower)  # Loại bỏ dấu câu\n",
        "        return text_no_punctuation\n",
        "\n",
        "    # Áp dụng hàm xử lý văn bản cho từng phần tử trong Series\n",
        "    processed_series = series.apply(preprocess_text)\n",
        "\n",
        "    # Chuyển đổi Series thành danh sách\n",
        "    list_strings = processed_series.tolist()\n",
        "\n",
        "    return list_strings"
      ]
    },
    {
      "cell_type": "code",
      "execution_count": null,
      "metadata": {
        "id": "r6QDuBcLk6j3",
        "colab": {
          "base_uri": "https://localhost:8080/",
          "height": 659
        },
        "outputId": "ee6e21f9-b82f-46b1-8039-324bb48233ee"
      },
      "outputs": [
        {
          "output_type": "execute_result",
          "data": {
            "text/plain": [
              "        0          1                2  \\\n",
              "0  N55528  lifestyle  lifestyleroyals   \n",
              "1  N19639     health       weightloss   \n",
              "2  N61837       news        newsworld   \n",
              "3  N53526     health           voices   \n",
              "4  N38324     health          medical   \n",
              "\n",
              "                                                   3  \\\n",
              "0  The Brands Queen Elizabeth, Prince Charles, an...   \n",
              "1                      50 Worst Habits For Belly Fat   \n",
              "2  The Cost of Trump's Aid Freeze in the Trenches...   \n",
              "3  I Was An NBA Wife. Here's How It Affected My M...   \n",
              "4  How to Get Rid of Skin Tags, According to a De...   \n",
              "\n",
              "                                                   4  \\\n",
              "0  Shop the notebooks, jackets, and more that the...   \n",
              "1  These seemingly harmless habits are holding yo...   \n",
              "2  Lt. Ivan Molchanets peeked over a parapet of s...   \n",
              "3  I felt like I was a fraud, and being an NBA wi...   \n",
              "4  They seem harmless, but there's a very good re...   \n",
              "\n",
              "                                               5  \\\n",
              "0  https://assets.msn.com/labs/mind/AAGH0ET.html   \n",
              "1  https://assets.msn.com/labs/mind/AAB19MK.html   \n",
              "2  https://assets.msn.com/labs/mind/AAJgNsz.html   \n",
              "3  https://assets.msn.com/labs/mind/AACk2N6.html   \n",
              "4  https://assets.msn.com/labs/mind/AAAKEkt.html   \n",
              "\n",
              "                                                   6  \\\n",
              "0  [{\"Label\": \"Prince Philip, Duke of Edinburgh\",...   \n",
              "1  [{\"Label\": \"Adipose tissue\", \"Type\": \"C\", \"Wik...   \n",
              "2                                                 []   \n",
              "3                                                 []   \n",
              "4  [{\"Label\": \"Skin tag\", \"Type\": \"C\", \"WikidataI...   \n",
              "\n",
              "                                                   7  \n",
              "0                                                 []  \n",
              "1  [{\"Label\": \"Adipose tissue\", \"Type\": \"C\", \"Wik...  \n",
              "2  [{\"Label\": \"Ukraine\", \"Type\": \"G\", \"WikidataId...  \n",
              "3  [{\"Label\": \"National Basketball Association\", ...  \n",
              "4  [{\"Label\": \"Skin tag\", \"Type\": \"C\", \"WikidataI...  "
            ],
            "text/html": [
              "\n",
              "  <div id=\"df-ebde788b-e58f-4160-a549-249306093a5f\" class=\"colab-df-container\">\n",
              "    <div>\n",
              "<style scoped>\n",
              "    .dataframe tbody tr th:only-of-type {\n",
              "        vertical-align: middle;\n",
              "    }\n",
              "\n",
              "    .dataframe tbody tr th {\n",
              "        vertical-align: top;\n",
              "    }\n",
              "\n",
              "    .dataframe thead th {\n",
              "        text-align: right;\n",
              "    }\n",
              "</style>\n",
              "<table border=\"1\" class=\"dataframe\">\n",
              "  <thead>\n",
              "    <tr style=\"text-align: right;\">\n",
              "      <th></th>\n",
              "      <th>0</th>\n",
              "      <th>1</th>\n",
              "      <th>2</th>\n",
              "      <th>3</th>\n",
              "      <th>4</th>\n",
              "      <th>5</th>\n",
              "      <th>6</th>\n",
              "      <th>7</th>\n",
              "    </tr>\n",
              "  </thead>\n",
              "  <tbody>\n",
              "    <tr>\n",
              "      <th>0</th>\n",
              "      <td>N55528</td>\n",
              "      <td>lifestyle</td>\n",
              "      <td>lifestyleroyals</td>\n",
              "      <td>The Brands Queen Elizabeth, Prince Charles, an...</td>\n",
              "      <td>Shop the notebooks, jackets, and more that the...</td>\n",
              "      <td>https://assets.msn.com/labs/mind/AAGH0ET.html</td>\n",
              "      <td>[{\"Label\": \"Prince Philip, Duke of Edinburgh\",...</td>\n",
              "      <td>[]</td>\n",
              "    </tr>\n",
              "    <tr>\n",
              "      <th>1</th>\n",
              "      <td>N19639</td>\n",
              "      <td>health</td>\n",
              "      <td>weightloss</td>\n",
              "      <td>50 Worst Habits For Belly Fat</td>\n",
              "      <td>These seemingly harmless habits are holding yo...</td>\n",
              "      <td>https://assets.msn.com/labs/mind/AAB19MK.html</td>\n",
              "      <td>[{\"Label\": \"Adipose tissue\", \"Type\": \"C\", \"Wik...</td>\n",
              "      <td>[{\"Label\": \"Adipose tissue\", \"Type\": \"C\", \"Wik...</td>\n",
              "    </tr>\n",
              "    <tr>\n",
              "      <th>2</th>\n",
              "      <td>N61837</td>\n",
              "      <td>news</td>\n",
              "      <td>newsworld</td>\n",
              "      <td>The Cost of Trump's Aid Freeze in the Trenches...</td>\n",
              "      <td>Lt. Ivan Molchanets peeked over a parapet of s...</td>\n",
              "      <td>https://assets.msn.com/labs/mind/AAJgNsz.html</td>\n",
              "      <td>[]</td>\n",
              "      <td>[{\"Label\": \"Ukraine\", \"Type\": \"G\", \"WikidataId...</td>\n",
              "    </tr>\n",
              "    <tr>\n",
              "      <th>3</th>\n",
              "      <td>N53526</td>\n",
              "      <td>health</td>\n",
              "      <td>voices</td>\n",
              "      <td>I Was An NBA Wife. Here's How It Affected My M...</td>\n",
              "      <td>I felt like I was a fraud, and being an NBA wi...</td>\n",
              "      <td>https://assets.msn.com/labs/mind/AACk2N6.html</td>\n",
              "      <td>[]</td>\n",
              "      <td>[{\"Label\": \"National Basketball Association\", ...</td>\n",
              "    </tr>\n",
              "    <tr>\n",
              "      <th>4</th>\n",
              "      <td>N38324</td>\n",
              "      <td>health</td>\n",
              "      <td>medical</td>\n",
              "      <td>How to Get Rid of Skin Tags, According to a De...</td>\n",
              "      <td>They seem harmless, but there's a very good re...</td>\n",
              "      <td>https://assets.msn.com/labs/mind/AAAKEkt.html</td>\n",
              "      <td>[{\"Label\": \"Skin tag\", \"Type\": \"C\", \"WikidataI...</td>\n",
              "      <td>[{\"Label\": \"Skin tag\", \"Type\": \"C\", \"WikidataI...</td>\n",
              "    </tr>\n",
              "  </tbody>\n",
              "</table>\n",
              "</div>\n",
              "    <div class=\"colab-df-buttons\">\n",
              "\n",
              "  <div class=\"colab-df-container\">\n",
              "    <button class=\"colab-df-convert\" onclick=\"convertToInteractive('df-ebde788b-e58f-4160-a549-249306093a5f')\"\n",
              "            title=\"Convert this dataframe to an interactive table.\"\n",
              "            style=\"display:none;\">\n",
              "\n",
              "  <svg xmlns=\"http://www.w3.org/2000/svg\" height=\"24px\" viewBox=\"0 -960 960 960\">\n",
              "    <path d=\"M120-120v-720h720v720H120Zm60-500h600v-160H180v160Zm220 220h160v-160H400v160Zm0 220h160v-160H400v160ZM180-400h160v-160H180v160Zm440 0h160v-160H620v160ZM180-180h160v-160H180v160Zm440 0h160v-160H620v160Z\"/>\n",
              "  </svg>\n",
              "    </button>\n",
              "\n",
              "  <style>\n",
              "    .colab-df-container {\n",
              "      display:flex;\n",
              "      gap: 12px;\n",
              "    }\n",
              "\n",
              "    .colab-df-convert {\n",
              "      background-color: #E8F0FE;\n",
              "      border: none;\n",
              "      border-radius: 50%;\n",
              "      cursor: pointer;\n",
              "      display: none;\n",
              "      fill: #1967D2;\n",
              "      height: 32px;\n",
              "      padding: 0 0 0 0;\n",
              "      width: 32px;\n",
              "    }\n",
              "\n",
              "    .colab-df-convert:hover {\n",
              "      background-color: #E2EBFA;\n",
              "      box-shadow: 0px 1px 2px rgba(60, 64, 67, 0.3), 0px 1px 3px 1px rgba(60, 64, 67, 0.15);\n",
              "      fill: #174EA6;\n",
              "    }\n",
              "\n",
              "    .colab-df-buttons div {\n",
              "      margin-bottom: 4px;\n",
              "    }\n",
              "\n",
              "    [theme=dark] .colab-df-convert {\n",
              "      background-color: #3B4455;\n",
              "      fill: #D2E3FC;\n",
              "    }\n",
              "\n",
              "    [theme=dark] .colab-df-convert:hover {\n",
              "      background-color: #434B5C;\n",
              "      box-shadow: 0px 1px 3px 1px rgba(0, 0, 0, 0.15);\n",
              "      filter: drop-shadow(0px 1px 2px rgba(0, 0, 0, 0.3));\n",
              "      fill: #FFFFFF;\n",
              "    }\n",
              "  </style>\n",
              "\n",
              "    <script>\n",
              "      const buttonEl =\n",
              "        document.querySelector('#df-ebde788b-e58f-4160-a549-249306093a5f button.colab-df-convert');\n",
              "      buttonEl.style.display =\n",
              "        google.colab.kernel.accessAllowed ? 'block' : 'none';\n",
              "\n",
              "      async function convertToInteractive(key) {\n",
              "        const element = document.querySelector('#df-ebde788b-e58f-4160-a549-249306093a5f');\n",
              "        const dataTable =\n",
              "          await google.colab.kernel.invokeFunction('convertToInteractive',\n",
              "                                                    [key], {});\n",
              "        if (!dataTable) return;\n",
              "\n",
              "        const docLinkHtml = 'Like what you see? Visit the ' +\n",
              "          '<a target=\"_blank\" href=https://colab.research.google.com/notebooks/data_table.ipynb>data table notebook</a>'\n",
              "          + ' to learn more about interactive tables.';\n",
              "        element.innerHTML = '';\n",
              "        dataTable['output_type'] = 'display_data';\n",
              "        await google.colab.output.renderOutput(dataTable, element);\n",
              "        const docLink = document.createElement('div');\n",
              "        docLink.innerHTML = docLinkHtml;\n",
              "        element.appendChild(docLink);\n",
              "      }\n",
              "    </script>\n",
              "  </div>\n",
              "\n",
              "\n",
              "<div id=\"df-78a9374b-9272-43ed-82e2-7f2b528293f9\">\n",
              "  <button class=\"colab-df-quickchart\" onclick=\"quickchart('df-78a9374b-9272-43ed-82e2-7f2b528293f9')\"\n",
              "            title=\"Suggest charts\"\n",
              "            style=\"display:none;\">\n",
              "\n",
              "<svg xmlns=\"http://www.w3.org/2000/svg\" height=\"24px\"viewBox=\"0 0 24 24\"\n",
              "     width=\"24px\">\n",
              "    <g>\n",
              "        <path d=\"M19 3H5c-1.1 0-2 .9-2 2v14c0 1.1.9 2 2 2h14c1.1 0 2-.9 2-2V5c0-1.1-.9-2-2-2zM9 17H7v-7h2v7zm4 0h-2V7h2v10zm4 0h-2v-4h2v4z\"/>\n",
              "    </g>\n",
              "</svg>\n",
              "  </button>\n",
              "\n",
              "<style>\n",
              "  .colab-df-quickchart {\n",
              "      --bg-color: #E8F0FE;\n",
              "      --fill-color: #1967D2;\n",
              "      --hover-bg-color: #E2EBFA;\n",
              "      --hover-fill-color: #174EA6;\n",
              "      --disabled-fill-color: #AAA;\n",
              "      --disabled-bg-color: #DDD;\n",
              "  }\n",
              "\n",
              "  [theme=dark] .colab-df-quickchart {\n",
              "      --bg-color: #3B4455;\n",
              "      --fill-color: #D2E3FC;\n",
              "      --hover-bg-color: #434B5C;\n",
              "      --hover-fill-color: #FFFFFF;\n",
              "      --disabled-bg-color: #3B4455;\n",
              "      --disabled-fill-color: #666;\n",
              "  }\n",
              "\n",
              "  .colab-df-quickchart {\n",
              "    background-color: var(--bg-color);\n",
              "    border: none;\n",
              "    border-radius: 50%;\n",
              "    cursor: pointer;\n",
              "    display: none;\n",
              "    fill: var(--fill-color);\n",
              "    height: 32px;\n",
              "    padding: 0;\n",
              "    width: 32px;\n",
              "  }\n",
              "\n",
              "  .colab-df-quickchart:hover {\n",
              "    background-color: var(--hover-bg-color);\n",
              "    box-shadow: 0 1px 2px rgba(60, 64, 67, 0.3), 0 1px 3px 1px rgba(60, 64, 67, 0.15);\n",
              "    fill: var(--button-hover-fill-color);\n",
              "  }\n",
              "\n",
              "  .colab-df-quickchart-complete:disabled,\n",
              "  .colab-df-quickchart-complete:disabled:hover {\n",
              "    background-color: var(--disabled-bg-color);\n",
              "    fill: var(--disabled-fill-color);\n",
              "    box-shadow: none;\n",
              "  }\n",
              "\n",
              "  .colab-df-spinner {\n",
              "    border: 2px solid var(--fill-color);\n",
              "    border-color: transparent;\n",
              "    border-bottom-color: var(--fill-color);\n",
              "    animation:\n",
              "      spin 1s steps(1) infinite;\n",
              "  }\n",
              "\n",
              "  @keyframes spin {\n",
              "    0% {\n",
              "      border-color: transparent;\n",
              "      border-bottom-color: var(--fill-color);\n",
              "      border-left-color: var(--fill-color);\n",
              "    }\n",
              "    20% {\n",
              "      border-color: transparent;\n",
              "      border-left-color: var(--fill-color);\n",
              "      border-top-color: var(--fill-color);\n",
              "    }\n",
              "    30% {\n",
              "      border-color: transparent;\n",
              "      border-left-color: var(--fill-color);\n",
              "      border-top-color: var(--fill-color);\n",
              "      border-right-color: var(--fill-color);\n",
              "    }\n",
              "    40% {\n",
              "      border-color: transparent;\n",
              "      border-right-color: var(--fill-color);\n",
              "      border-top-color: var(--fill-color);\n",
              "    }\n",
              "    60% {\n",
              "      border-color: transparent;\n",
              "      border-right-color: var(--fill-color);\n",
              "    }\n",
              "    80% {\n",
              "      border-color: transparent;\n",
              "      border-right-color: var(--fill-color);\n",
              "      border-bottom-color: var(--fill-color);\n",
              "    }\n",
              "    90% {\n",
              "      border-color: transparent;\n",
              "      border-bottom-color: var(--fill-color);\n",
              "    }\n",
              "  }\n",
              "</style>\n",
              "\n",
              "  <script>\n",
              "    async function quickchart(key) {\n",
              "      const quickchartButtonEl =\n",
              "        document.querySelector('#' + key + ' button');\n",
              "      quickchartButtonEl.disabled = true;  // To prevent multiple clicks.\n",
              "      quickchartButtonEl.classList.add('colab-df-spinner');\n",
              "      try {\n",
              "        const charts = await google.colab.kernel.invokeFunction(\n",
              "            'suggestCharts', [key], {});\n",
              "      } catch (error) {\n",
              "        console.error('Error during call to suggestCharts:', error);\n",
              "      }\n",
              "      quickchartButtonEl.classList.remove('colab-df-spinner');\n",
              "      quickchartButtonEl.classList.add('colab-df-quickchart-complete');\n",
              "    }\n",
              "    (() => {\n",
              "      let quickchartButtonEl =\n",
              "        document.querySelector('#df-78a9374b-9272-43ed-82e2-7f2b528293f9 button');\n",
              "      quickchartButtonEl.style.display =\n",
              "        google.colab.kernel.accessAllowed ? 'block' : 'none';\n",
              "    })();\n",
              "  </script>\n",
              "</div>\n",
              "\n",
              "    </div>\n",
              "  </div>\n"
            ],
            "application/vnd.google.colaboratory.intrinsic+json": {
              "type": "dataframe",
              "variable_name": "df_new4train",
              "summary": "{\n  \"name\": \"df_new4train\",\n  \"rows\": 51282,\n  \"fields\": [\n    {\n      \"column\": 0,\n      \"properties\": {\n        \"dtype\": \"string\",\n        \"num_unique_values\": 51282,\n        \"samples\": [\n          \"N7433\",\n          \"N43326\",\n          \"N45745\"\n        ],\n        \"semantic_type\": \"\",\n        \"description\": \"\"\n      }\n    },\n    {\n      \"column\": 1,\n      \"properties\": {\n        \"dtype\": \"category\",\n        \"num_unique_values\": 17,\n        \"samples\": [\n          \"lifestyle\",\n          \"health\",\n          \"entertainment\"\n        ],\n        \"semantic_type\": \"\",\n        \"description\": \"\"\n      }\n    },\n    {\n      \"column\": 2,\n      \"properties\": {\n        \"dtype\": \"category\",\n        \"num_unique_values\": 264,\n        \"samples\": [\n          \"musicnews\",\n          \"tunedin\",\n          \"finance-career-education\"\n        ],\n        \"semantic_type\": \"\",\n        \"description\": \"\"\n      }\n    },\n    {\n      \"column\": 3,\n      \"properties\": {\n        \"dtype\": \"string\",\n        \"num_unique_values\": 50434,\n        \"samples\": [\n          \"Hundreds of thousands of people in California are downriver of a dam that 'could fail'\",\n          \"State Department finds no 'deliberate mishandling of classified information' related to Clinton email server\",\n          \"Over 13,000 Nationals fans attend Game 7 watch party at Nationals Park\"\n        ],\n        \"semantic_type\": \"\",\n        \"description\": \"\"\n      }\n    },\n    {\n      \"column\": 4,\n      \"properties\": {\n        \"dtype\": \"string\",\n        \"num_unique_values\": 47310,\n        \"samples\": [\n          \"A federal judge handed down a three-week prison sentence for Marjorie Klapper, a white Menlo Park mother whose son applied to college with a fraudulent ACT score and an application that falsely portrayed him as African American, Latino and the first in his family to attend college. To ensure her son got a top score on his ACT exam, Klapper admitted she paid $15,000 to William \\\"Rick\\\" Singer, a Newport Beach college admissions consultant who has...\",\n          \"Authorities said a Knoxville family inadvertently made a pipe bomb for a gender reveal that ended in a deadly accidental blast over the weekend. The Marion County Sheriff's Office said Monday that Pamela Kreimeyer, 56, died Saturday after shrapnel from the gender reveal explosion struck her in the head. Marion County Sheriff Jason Sandholdt said the unintentional pipe bomb was intended to explode colored powder into a puff of smoke revealing the...\",\n          \"Bloom Medicinals, Butler County's first medical marijuana dispensary, officially opened Thursday. Located at 403 S. Main St. in the village of Seven Mile, it's one of two opening in the county out of 45 dispensaries granted state approved provisional licenses last summer.\"\n        ],\n        \"semantic_type\": \"\",\n        \"description\": \"\"\n      }\n    },\n    {\n      \"column\": 5,\n      \"properties\": {\n        \"dtype\": \"string\",\n        \"num_unique_values\": 51281,\n        \"samples\": [\n          \"https://assets.msn.com/labs/mind/AAJmWCa.html\",\n          \"https://assets.msn.com/labs/mind/AAIZ3GP.html\",\n          \"https://assets.msn.com/labs/mind/AAILU2e.html\"\n        ],\n        \"semantic_type\": \"\",\n        \"description\": \"\"\n      }\n    },\n    {\n      \"column\": 6,\n      \"properties\": {\n        \"dtype\": \"string\",\n        \"num_unique_values\": 34473,\n        \"samples\": [\n          \"[{\\\"Label\\\": \\\"Houston Texans\\\", \\\"Type\\\": \\\"O\\\", \\\"WikidataId\\\": \\\"Q223514\\\", \\\"Confidence\\\": 0.998, \\\"OccurrenceOffsets\\\": [0], \\\"SurfaceForms\\\": [\\\"Texans\\\"]}, {\\\"Label\\\": \\\"Deshaun Watson\\\", \\\"Type\\\": \\\"P\\\", \\\"WikidataId\\\": \\\"Q18159104\\\", \\\"Confidence\\\": 1.0, \\\"OccurrenceOffsets\\\": [8], \\\"SurfaceForms\\\": [\\\"Deshaun Watson\\\"]}]\",\n          \"[{\\\"Label\\\": \\\"McDonald's\\\", \\\"Type\\\": \\\"O\\\", \\\"WikidataId\\\": \\\"Q38076\\\", \\\"Confidence\\\": 1.0, \\\"OccurrenceOffsets\\\": [22], \\\"SurfaceForms\\\": [\\\"McDonald's\\\"]}]\",\n          \"[{\\\"Label\\\": \\\"New Jersey\\\", \\\"Type\\\": \\\"G\\\", \\\"WikidataId\\\": \\\"Q1408\\\", \\\"Confidence\\\": 0.997, \\\"OccurrenceOffsets\\\": [0], \\\"SurfaceForms\\\": [\\\"New Jersey\\\"]}]\"\n        ],\n        \"semantic_type\": \"\",\n        \"description\": \"\"\n      }\n    },\n    {\n      \"column\": 7,\n      \"properties\": {\n        \"dtype\": \"string\",\n        \"num_unique_values\": 36278,\n        \"samples\": [\n          \"[{\\\"Label\\\": \\\"University of California, Berkeley\\\", \\\"Type\\\": \\\"O\\\", \\\"WikidataId\\\": \\\"Q168756\\\", \\\"Confidence\\\": 1.0, \\\"OccurrenceOffsets\\\": [111, 387], \\\"SurfaceForms\\\": [\\\"UC Berkeley\\\", \\\"UC Berkeley\\\"]}, {\\\"Label\\\": \\\"San Francisco Bay Area\\\", \\\"Type\\\": \\\"G\\\", \\\"WikidataId\\\": \\\"Q213205\\\", \\\"Confidence\\\": 1.0, \\\"OccurrenceOffsets\\\": [82], \\\"SurfaceForms\\\": [\\\"Bay Area\\\"]}, {\\\"Label\\\": \\\"Baja California Peninsula\\\", \\\"Type\\\": \\\"L\\\", \\\"WikidataId\\\": \\\"Q178543\\\", \\\"Confidence\\\": 1.0, \\\"OccurrenceOffsets\\\": [94], \\\"SurfaceForms\\\": [\\\"Baja\\\"]}, {\\\"Label\\\": \\\"California\\\", \\\"Type\\\": \\\"G\\\", \\\"WikidataId\\\": \\\"Q99\\\", \\\"Confidence\\\": 0.943, \\\"OccurrenceOffsets\\\": [99], \\\"SurfaceForms\\\": [\\\"California\\\"]}]\",\n          \"[{\\\"Label\\\": \\\"Belleville, Illinois\\\", \\\"Type\\\": \\\"G\\\", \\\"WikidataId\\\": \\\"Q79892\\\", \\\"Confidence\\\": 1.0, \\\"OccurrenceOffsets\\\": [0, 97], \\\"SurfaceForms\\\": [\\\"BELLEVILLE\\\", \\\"Belleville\\\"]}]\",\n          \"[{\\\"Label\\\": \\\"Nikki Haley\\\", \\\"Type\\\": \\\"P\\\", \\\"WikidataId\\\": \\\"Q11668\\\", \\\"Confidence\\\": 1.0, \\\"OccurrenceOffsets\\\": [73], \\\"SurfaceForms\\\": [\\\"Nikki Haley\\\"]}, {\\\"Label\\\": \\\"Kurds in Syria\\\", \\\"Type\\\": \\\"Y\\\", \\\"WikidataId\\\": \\\"Q1792998\\\", \\\"Confidence\\\": 1.0, \\\"OccurrenceOffsets\\\": [140], \\\"SurfaceForms\\\": [\\\"Kurds in Syria\\\"]}, {\\\"Label\\\": \\\"United States Ambassador to the United Nations\\\", \\\"Type\\\": \\\"K\\\", \\\"WikidataId\\\": \\\"Q1785225\\\", \\\"Confidence\\\": 1.0, \\\"OccurrenceOffsets\\\": [34], \\\"SurfaceForms\\\": [\\\"U.S. Ambassador to the United Nations\\\"]}, {\\\"Label\\\": \\\"Islamic State of Iraq and the Levant\\\", \\\"Type\\\": \\\"U\\\", \\\"WikidataId\\\": \\\"Q2429253\\\", \\\"Confidence\\\": 0.918, \\\"OccurrenceOffsets\\\": [200], \\\"SurfaceForms\\\": [\\\"ISIS\\\"]}, {\\\"Label\\\": \\\"United States\\\", \\\"Type\\\": \\\"G\\\", \\\"WikidataId\\\": \\\"Q30\\\", \\\"Confidence\\\": 0.96, \\\"OccurrenceOffsets\\\": [176, 235], \\\"SurfaceForms\\\": [\\\"America\\\", \\\"U.S.\\\"]}, {\\\"Label\\\": \\\"Donald Trump\\\", \\\"Type\\\": \\\"P\\\", \\\"WikidataId\\\": \\\"Q22686\\\", \\\"Confidence\\\": 1.0, \\\"OccurrenceOffsets\\\": [96], \\\"SurfaceForms\\\": [\\\"President Donald Trump\\\"]}]\"\n        ],\n        \"semantic_type\": \"\",\n        \"description\": \"\"\n      }\n    }\n  ]\n}"
            }
          },
          "metadata": {},
          "execution_count": 6
        }
      ],
      "source": [
        "file_train = '/content/drive/MyDrive/All_CSV/NAML/MINDsmall_train'\n",
        "\n",
        "path_new4train = os.path.join(file_train, 'news.tsv')\n",
        "df_new4train = pd.read_csv(path_new4train, delimiter='\\t', header=None)\n",
        "df_new4train.fillna('', inplace=True)\n",
        "df_new4train.head(5)"
      ]
    },
    {
      "cell_type": "markdown",
      "metadata": {
        "id": "l9SnrJ9mAbQK"
      },
      "source": [
        "# Định nghĩa Hyperparameter"
      ]
    },
    {
      "cell_type": "code",
      "execution_count": null,
      "metadata": {
        "id": "fZO9c1TozWwU"
      },
      "outputs": [],
      "source": [
        "title_length = 20\n",
        "title_dim = 100\n",
        "title_vocab = 20000\n",
        "body_length = 100\n",
        "body_dim = 200\n",
        "body_vocab = 60000\n",
        "filters = 300\n",
        "kernel_size = 3\n",
        "query_vector_dim = 200\n",
        "category_vocab = len(df_new4train.iloc[:,1].unique())\n",
        "category_length = 1\n",
        "category_dim = 50\n",
        "subcategory_vocab = len(df_new4train.iloc[:,2].unique())\n",
        "subcategory_length = 1\n",
        "TOTAL_BROWSE_NEW = 30\n",
        "TOTAL_CANDIDATE_NEW = 5\n",
        "batch_size = 32\n",
        "num_epochs = 2"
      ]
    },
    {
      "cell_type": "markdown",
      "metadata": {
        "id": "pWTpXwa2gwRL"
      },
      "source": [
        "# Làm sạch data, tạo từ điển"
      ]
    },
    {
      "cell_type": "code",
      "execution_count": null,
      "metadata": {
        "id": "oW9RQH0ar3lW"
      },
      "outputs": [],
      "source": [
        "from tensorflow.keras.preprocessing.text import one_hot\n",
        "from tensorflow.keras.preprocessing.sequence import pad_sequences"
      ]
    },
    {
      "cell_type": "code",
      "execution_count": null,
      "metadata": {
        "id": "FvciPnNN0H7m"
      },
      "outputs": [],
      "source": [
        "# Lấy data Train\n",
        "categories_train = df_new4train.iloc[:,1].tolist()\n",
        "subcategories_train = df_new4train.iloc[:,2].tolist()\n",
        "titles_train = preprocess_and_convert_to_list(df_new4train.iloc[:,3])\n",
        "bodies_train = preprocess_and_convert_to_list(df_new4train.iloc[:,4])\n"
      ]
    },
    {
      "cell_type": "code",
      "execution_count": null,
      "metadata": {
        "id": "RT0ctiBxopTJ"
      },
      "outputs": [],
      "source": [
        "onehot_title_train = [one_hot(words, title_vocab)for words in titles_train]\n",
        "onehot_body_train = [one_hot(words, body_vocab)for words in bodies_train]\n",
        "onehot_category_train = [one_hot(words, category_vocab)for words in categories_train]\n",
        "onehot_subcategory_train = [one_hot(words, subcategory_vocab)for words in subcategories_train]\n"
      ]
    },
    {
      "cell_type": "code",
      "execution_count": null,
      "metadata": {
        "id": "KD2hstsKfTTB"
      },
      "outputs": [],
      "source": [
        "titles_train_docs = pad_sequences(onehot_title_train, padding='pre', maxlen=title_length)\n",
        "bodies_train_docs = pad_sequences(onehot_body_train, padding='pre', maxlen=body_length)\n",
        "category_train_docs = pad_sequences(onehot_category_train, padding='pre', maxlen=category_length)\n",
        "subcategory_train_docs = pad_sequences(onehot_subcategory_train, padding='pre', maxlen=subcategory_length)\n"
      ]
    },
    {
      "cell_type": "code",
      "execution_count": null,
      "metadata": {
        "id": "ZdZ-ednNHnk_"
      },
      "outputs": [],
      "source": [
        "# Tạo từ điển news trong đó key là mã bài báo, value là danh sách các thông tin của new [category, sub_category, title, body]\n",
        "news_dict1 = {}\n",
        "for i in range(len(titles_train_docs)):\n",
        "    news_dict1[df_new4train[0][i]] = [category_train_docs[i], subcategory_train_docs[i], titles_train_docs[i], bodies_train_docs[i]]"
      ]
    },
    {
      "cell_type": "markdown",
      "metadata": {
        "id": "pRlUHQiY-fFr"
      },
      "source": [
        "# Dữ liệu hành vi"
      ]
    },
    {
      "cell_type": "code",
      "execution_count": null,
      "metadata": {
        "id": "2v0-cCqF_F9j",
        "colab": {
          "base_uri": "https://localhost:8080/",
          "height": 293
        },
        "outputId": "bae0d012-5938-4ede-a304-beebedb71970"
      },
      "outputs": [
        {
          "output_type": "execute_result",
          "data": {
            "text/plain": [
              "   0       1                      2  \\\n",
              "0  1  U13740  11/11/2019 9:05:58 AM   \n",
              "1  2  U91836  11/12/2019 6:11:30 PM   \n",
              "2  3  U73700  11/14/2019 7:01:48 AM   \n",
              "3  4  U34670  11/11/2019 5:28:05 AM   \n",
              "4  5   U8125  11/12/2019 4:11:21 PM   \n",
              "\n",
              "                                                   3  \\\n",
              "0  N55189 N42782 N34694 N45794 N18445 N63302 N104...   \n",
              "1  N31739 N6072 N63045 N23979 N35656 N43353 N8129...   \n",
              "2  N10732 N25792 N7563 N21087 N41087 N5445 N60384...   \n",
              "3  N45729 N2203 N871 N53880 N41375 N43142 N33013 ...   \n",
              "4                        N10078 N56514 N14904 N33740   \n",
              "\n",
              "                                                   4  \n",
              "0                                  N55689-1 N35729-0  \n",
              "1  N20678-0 N39317-0 N58114-0 N20495-0 N42977-0 N...  \n",
              "2  N50014-0 N23877-0 N35389-0 N49712-0 N16844-0 N...  \n",
              "3                N35729-0 N33632-0 N49685-1 N27581-0  \n",
              "4  N39985-0 N36050-0 N16096-0 N8400-1 N22407-0 N6...  "
            ],
            "text/html": [
              "\n",
              "  <div id=\"df-1bab76c2-c527-4e4a-a99b-604afe3b4ad4\" class=\"colab-df-container\">\n",
              "    <div>\n",
              "<style scoped>\n",
              "    .dataframe tbody tr th:only-of-type {\n",
              "        vertical-align: middle;\n",
              "    }\n",
              "\n",
              "    .dataframe tbody tr th {\n",
              "        vertical-align: top;\n",
              "    }\n",
              "\n",
              "    .dataframe thead th {\n",
              "        text-align: right;\n",
              "    }\n",
              "</style>\n",
              "<table border=\"1\" class=\"dataframe\">\n",
              "  <thead>\n",
              "    <tr style=\"text-align: right;\">\n",
              "      <th></th>\n",
              "      <th>0</th>\n",
              "      <th>1</th>\n",
              "      <th>2</th>\n",
              "      <th>3</th>\n",
              "      <th>4</th>\n",
              "    </tr>\n",
              "  </thead>\n",
              "  <tbody>\n",
              "    <tr>\n",
              "      <th>0</th>\n",
              "      <td>1</td>\n",
              "      <td>U13740</td>\n",
              "      <td>11/11/2019 9:05:58 AM</td>\n",
              "      <td>N55189 N42782 N34694 N45794 N18445 N63302 N104...</td>\n",
              "      <td>N55689-1 N35729-0</td>\n",
              "    </tr>\n",
              "    <tr>\n",
              "      <th>1</th>\n",
              "      <td>2</td>\n",
              "      <td>U91836</td>\n",
              "      <td>11/12/2019 6:11:30 PM</td>\n",
              "      <td>N31739 N6072 N63045 N23979 N35656 N43353 N8129...</td>\n",
              "      <td>N20678-0 N39317-0 N58114-0 N20495-0 N42977-0 N...</td>\n",
              "    </tr>\n",
              "    <tr>\n",
              "      <th>2</th>\n",
              "      <td>3</td>\n",
              "      <td>U73700</td>\n",
              "      <td>11/14/2019 7:01:48 AM</td>\n",
              "      <td>N10732 N25792 N7563 N21087 N41087 N5445 N60384...</td>\n",
              "      <td>N50014-0 N23877-0 N35389-0 N49712-0 N16844-0 N...</td>\n",
              "    </tr>\n",
              "    <tr>\n",
              "      <th>3</th>\n",
              "      <td>4</td>\n",
              "      <td>U34670</td>\n",
              "      <td>11/11/2019 5:28:05 AM</td>\n",
              "      <td>N45729 N2203 N871 N53880 N41375 N43142 N33013 ...</td>\n",
              "      <td>N35729-0 N33632-0 N49685-1 N27581-0</td>\n",
              "    </tr>\n",
              "    <tr>\n",
              "      <th>4</th>\n",
              "      <td>5</td>\n",
              "      <td>U8125</td>\n",
              "      <td>11/12/2019 4:11:21 PM</td>\n",
              "      <td>N10078 N56514 N14904 N33740</td>\n",
              "      <td>N39985-0 N36050-0 N16096-0 N8400-1 N22407-0 N6...</td>\n",
              "    </tr>\n",
              "  </tbody>\n",
              "</table>\n",
              "</div>\n",
              "    <div class=\"colab-df-buttons\">\n",
              "\n",
              "  <div class=\"colab-df-container\">\n",
              "    <button class=\"colab-df-convert\" onclick=\"convertToInteractive('df-1bab76c2-c527-4e4a-a99b-604afe3b4ad4')\"\n",
              "            title=\"Convert this dataframe to an interactive table.\"\n",
              "            style=\"display:none;\">\n",
              "\n",
              "  <svg xmlns=\"http://www.w3.org/2000/svg\" height=\"24px\" viewBox=\"0 -960 960 960\">\n",
              "    <path d=\"M120-120v-720h720v720H120Zm60-500h600v-160H180v160Zm220 220h160v-160H400v160Zm0 220h160v-160H400v160ZM180-400h160v-160H180v160Zm440 0h160v-160H620v160ZM180-180h160v-160H180v160Zm440 0h160v-160H620v160Z\"/>\n",
              "  </svg>\n",
              "    </button>\n",
              "\n",
              "  <style>\n",
              "    .colab-df-container {\n",
              "      display:flex;\n",
              "      gap: 12px;\n",
              "    }\n",
              "\n",
              "    .colab-df-convert {\n",
              "      background-color: #E8F0FE;\n",
              "      border: none;\n",
              "      border-radius: 50%;\n",
              "      cursor: pointer;\n",
              "      display: none;\n",
              "      fill: #1967D2;\n",
              "      height: 32px;\n",
              "      padding: 0 0 0 0;\n",
              "      width: 32px;\n",
              "    }\n",
              "\n",
              "    .colab-df-convert:hover {\n",
              "      background-color: #E2EBFA;\n",
              "      box-shadow: 0px 1px 2px rgba(60, 64, 67, 0.3), 0px 1px 3px 1px rgba(60, 64, 67, 0.15);\n",
              "      fill: #174EA6;\n",
              "    }\n",
              "\n",
              "    .colab-df-buttons div {\n",
              "      margin-bottom: 4px;\n",
              "    }\n",
              "\n",
              "    [theme=dark] .colab-df-convert {\n",
              "      background-color: #3B4455;\n",
              "      fill: #D2E3FC;\n",
              "    }\n",
              "\n",
              "    [theme=dark] .colab-df-convert:hover {\n",
              "      background-color: #434B5C;\n",
              "      box-shadow: 0px 1px 3px 1px rgba(0, 0, 0, 0.15);\n",
              "      filter: drop-shadow(0px 1px 2px rgba(0, 0, 0, 0.3));\n",
              "      fill: #FFFFFF;\n",
              "    }\n",
              "  </style>\n",
              "\n",
              "    <script>\n",
              "      const buttonEl =\n",
              "        document.querySelector('#df-1bab76c2-c527-4e4a-a99b-604afe3b4ad4 button.colab-df-convert');\n",
              "      buttonEl.style.display =\n",
              "        google.colab.kernel.accessAllowed ? 'block' : 'none';\n",
              "\n",
              "      async function convertToInteractive(key) {\n",
              "        const element = document.querySelector('#df-1bab76c2-c527-4e4a-a99b-604afe3b4ad4');\n",
              "        const dataTable =\n",
              "          await google.colab.kernel.invokeFunction('convertToInteractive',\n",
              "                                                    [key], {});\n",
              "        if (!dataTable) return;\n",
              "\n",
              "        const docLinkHtml = 'Like what you see? Visit the ' +\n",
              "          '<a target=\"_blank\" href=https://colab.research.google.com/notebooks/data_table.ipynb>data table notebook</a>'\n",
              "          + ' to learn more about interactive tables.';\n",
              "        element.innerHTML = '';\n",
              "        dataTable['output_type'] = 'display_data';\n",
              "        await google.colab.output.renderOutput(dataTable, element);\n",
              "        const docLink = document.createElement('div');\n",
              "        docLink.innerHTML = docLinkHtml;\n",
              "        element.appendChild(docLink);\n",
              "      }\n",
              "    </script>\n",
              "  </div>\n",
              "\n",
              "\n",
              "<div id=\"df-69465007-c8a8-47f4-a755-180faafb576d\">\n",
              "  <button class=\"colab-df-quickchart\" onclick=\"quickchart('df-69465007-c8a8-47f4-a755-180faafb576d')\"\n",
              "            title=\"Suggest charts\"\n",
              "            style=\"display:none;\">\n",
              "\n",
              "<svg xmlns=\"http://www.w3.org/2000/svg\" height=\"24px\"viewBox=\"0 0 24 24\"\n",
              "     width=\"24px\">\n",
              "    <g>\n",
              "        <path d=\"M19 3H5c-1.1 0-2 .9-2 2v14c0 1.1.9 2 2 2h14c1.1 0 2-.9 2-2V5c0-1.1-.9-2-2-2zM9 17H7v-7h2v7zm4 0h-2V7h2v10zm4 0h-2v-4h2v4z\"/>\n",
              "    </g>\n",
              "</svg>\n",
              "  </button>\n",
              "\n",
              "<style>\n",
              "  .colab-df-quickchart {\n",
              "      --bg-color: #E8F0FE;\n",
              "      --fill-color: #1967D2;\n",
              "      --hover-bg-color: #E2EBFA;\n",
              "      --hover-fill-color: #174EA6;\n",
              "      --disabled-fill-color: #AAA;\n",
              "      --disabled-bg-color: #DDD;\n",
              "  }\n",
              "\n",
              "  [theme=dark] .colab-df-quickchart {\n",
              "      --bg-color: #3B4455;\n",
              "      --fill-color: #D2E3FC;\n",
              "      --hover-bg-color: #434B5C;\n",
              "      --hover-fill-color: #FFFFFF;\n",
              "      --disabled-bg-color: #3B4455;\n",
              "      --disabled-fill-color: #666;\n",
              "  }\n",
              "\n",
              "  .colab-df-quickchart {\n",
              "    background-color: var(--bg-color);\n",
              "    border: none;\n",
              "    border-radius: 50%;\n",
              "    cursor: pointer;\n",
              "    display: none;\n",
              "    fill: var(--fill-color);\n",
              "    height: 32px;\n",
              "    padding: 0;\n",
              "    width: 32px;\n",
              "  }\n",
              "\n",
              "  .colab-df-quickchart:hover {\n",
              "    background-color: var(--hover-bg-color);\n",
              "    box-shadow: 0 1px 2px rgba(60, 64, 67, 0.3), 0 1px 3px 1px rgba(60, 64, 67, 0.15);\n",
              "    fill: var(--button-hover-fill-color);\n",
              "  }\n",
              "\n",
              "  .colab-df-quickchart-complete:disabled,\n",
              "  .colab-df-quickchart-complete:disabled:hover {\n",
              "    background-color: var(--disabled-bg-color);\n",
              "    fill: var(--disabled-fill-color);\n",
              "    box-shadow: none;\n",
              "  }\n",
              "\n",
              "  .colab-df-spinner {\n",
              "    border: 2px solid var(--fill-color);\n",
              "    border-color: transparent;\n",
              "    border-bottom-color: var(--fill-color);\n",
              "    animation:\n",
              "      spin 1s steps(1) infinite;\n",
              "  }\n",
              "\n",
              "  @keyframes spin {\n",
              "    0% {\n",
              "      border-color: transparent;\n",
              "      border-bottom-color: var(--fill-color);\n",
              "      border-left-color: var(--fill-color);\n",
              "    }\n",
              "    20% {\n",
              "      border-color: transparent;\n",
              "      border-left-color: var(--fill-color);\n",
              "      border-top-color: var(--fill-color);\n",
              "    }\n",
              "    30% {\n",
              "      border-color: transparent;\n",
              "      border-left-color: var(--fill-color);\n",
              "      border-top-color: var(--fill-color);\n",
              "      border-right-color: var(--fill-color);\n",
              "    }\n",
              "    40% {\n",
              "      border-color: transparent;\n",
              "      border-right-color: var(--fill-color);\n",
              "      border-top-color: var(--fill-color);\n",
              "    }\n",
              "    60% {\n",
              "      border-color: transparent;\n",
              "      border-right-color: var(--fill-color);\n",
              "    }\n",
              "    80% {\n",
              "      border-color: transparent;\n",
              "      border-right-color: var(--fill-color);\n",
              "      border-bottom-color: var(--fill-color);\n",
              "    }\n",
              "    90% {\n",
              "      border-color: transparent;\n",
              "      border-bottom-color: var(--fill-color);\n",
              "    }\n",
              "  }\n",
              "</style>\n",
              "\n",
              "  <script>\n",
              "    async function quickchart(key) {\n",
              "      const quickchartButtonEl =\n",
              "        document.querySelector('#' + key + ' button');\n",
              "      quickchartButtonEl.disabled = true;  // To prevent multiple clicks.\n",
              "      quickchartButtonEl.classList.add('colab-df-spinner');\n",
              "      try {\n",
              "        const charts = await google.colab.kernel.invokeFunction(\n",
              "            'suggestCharts', [key], {});\n",
              "      } catch (error) {\n",
              "        console.error('Error during call to suggestCharts:', error);\n",
              "      }\n",
              "      quickchartButtonEl.classList.remove('colab-df-spinner');\n",
              "      quickchartButtonEl.classList.add('colab-df-quickchart-complete');\n",
              "    }\n",
              "    (() => {\n",
              "      let quickchartButtonEl =\n",
              "        document.querySelector('#df-69465007-c8a8-47f4-a755-180faafb576d button');\n",
              "      quickchartButtonEl.style.display =\n",
              "        google.colab.kernel.accessAllowed ? 'block' : 'none';\n",
              "    })();\n",
              "  </script>\n",
              "</div>\n",
              "\n",
              "    </div>\n",
              "  </div>\n"
            ],
            "application/vnd.google.colaboratory.intrinsic+json": {
              "type": "dataframe",
              "variable_name": "df_behavior4train"
            }
          },
          "metadata": {},
          "execution_count": 13
        }
      ],
      "source": [
        "path_behavior4train = os.path.join(file_train, 'behaviors.tsv')\n",
        "df_behavior4train = pd.read_csv(path_behavior4train, delimiter='\\t', header=None)\n",
        "df_behavior4train.fillna('', inplace=True)\n",
        "df_behavior4train.head(5)"
      ]
    },
    {
      "cell_type": "markdown",
      "metadata": {
        "id": "Z3RxxFH9ZFiw"
      },
      "source": [
        "# Tạo dữ liệu train, test"
      ]
    },
    {
      "cell_type": "code",
      "execution_count": null,
      "metadata": {
        "collapsed": true,
        "id": "EzJLGcEdWprk"
      },
      "outputs": [],
      "source": [
        "def make_data4train(df=df_behavior4train):\n",
        "    y=[]\n",
        "    list_category_c=[]\n",
        "    list_subcategory_c=[]\n",
        "    list_title_c=[]\n",
        "    list_body_c=[]\n",
        "    list_category_b=[]\n",
        "    list_subcategory_b=[]\n",
        "    list_title_b=[]\n",
        "    list_body_b=[]\n",
        "    df.index = range(1, len(df) + 1)\n",
        "    for i, user in df.iterrows():\n",
        "        # Xử lý candidate_news\n",
        "        c_c = []\n",
        "        sc_c = []\n",
        "        t_c = []\n",
        "        b_c = []\n",
        "        pos = []\n",
        "        neg = []\n",
        "        yy = []\n",
        "        for candidate_new in user[4].split(): # Duyệt các cadidate\n",
        "            candidate_split = candidate_new.split('-')\n",
        "            if int(candidate_split[1]) == 1:\n",
        "                pos.append(candidate_new)\n",
        "            else:\n",
        "                neg.append(candidate_new)\n",
        "        my_list = [pos[0]] + neg[:min(len(neg), TOTAL_CANDIDATE_NEW - 1)] + ['none'] * (TOTAL_CANDIDATE_NEW - 1 - min(len(neg), 4))\n",
        "        # Trộn các bài candidate_new\n",
        "        random.shuffle(my_list)\n",
        "        for candidate_new in my_list:\n",
        "            candidate_split = candidate_new.split('-')\n",
        "            if candidate_split[0] != 'none':\n",
        "                data = news_dict1[candidate_split[0]]\n",
        "                yy.append(int(candidate_split[1]))\n",
        "                c_c.append(data[0])\n",
        "                sc_c.append(data[1])\n",
        "                t_c.append(data[2])\n",
        "                b_c.append(data[3])\n",
        "            else:\n",
        "                yy.append(int(0))\n",
        "                c_c.append(np.zeros(1))\n",
        "                sc_c.append(np.zeros(1))\n",
        "                t_c.append(np.zeros(title_length))\n",
        "                b_c.append(np.zeros(body_length))\n",
        "        list_category_c.append(c_c)\n",
        "        list_subcategory_c.append(sc_c)\n",
        "        list_title_c.append(t_c)\n",
        "        list_body_c.append(b_c)\n",
        "        # Xử lý browsed_news\n",
        "        c_bn = [np.zeros(1) for x in range(TOTAL_BROWSE_NEW)]\n",
        "        sc_bn = [np.zeros(1) for x in range(TOTAL_BROWSE_NEW)]\n",
        "        t_bn = [np.zeros(title_length) for x in range(TOTAL_BROWSE_NEW)]\n",
        "        b_bn = [np.zeros(body_length) for x in range(TOTAL_BROWSE_NEW)]\n",
        "        for j, bnew in enumerate(user[3].split()):\n",
        "            if j < TOTAL_BROWSE_NEW:\n",
        "                new = news_dict1[bnew]\n",
        "                c_bn[j] = new[0]\n",
        "                sc_bn[j] = new[1]\n",
        "                t_bn[j] = new[2]\n",
        "                b_bn[j] = new[3]\n",
        "            else:\n",
        "                break\n",
        "        list_category_b.append(c_bn)\n",
        "        list_subcategory_b.append(sc_bn)\n",
        "        list_title_b.append(t_bn)\n",
        "        list_body_b.append(b_bn)\n",
        "        y.append(np.array(yy))\n",
        "        if i % batch_size == 0:\n",
        "            c_b = tf.convert_to_tensor(list_category_b)\n",
        "            c_b = tf.reshape(c_b, (batch_size, TOTAL_BROWSE_NEW, 1))\n",
        "\n",
        "            sc_b = tf.convert_to_tensor(list_subcategory_b)\n",
        "            sc_b = tf.reshape(sc_b, (batch_size, TOTAL_BROWSE_NEW, 1))\n",
        "\n",
        "            t_b = tf.convert_to_tensor(list_title_b)\n",
        "            t_b = tf.reshape(t_b, (batch_size, TOTAL_BROWSE_NEW, title_length))\n",
        "\n",
        "            b_b = tf.convert_to_tensor(list_body_b)\n",
        "            b_b = tf.reshape(b_b, (batch_size, TOTAL_BROWSE_NEW, body_length))\n",
        "\n",
        "            c_c = tf.convert_to_tensor(list_category_c)\n",
        "            c_c = tf.reshape(c_c, (batch_size, TOTAL_CANDIDATE_NEW, 1))\n",
        "\n",
        "            sc_c = tf.convert_to_tensor(list_subcategory_c)\n",
        "            sc_c = tf.reshape(sc_c, (batch_size, TOTAL_CANDIDATE_NEW, 1))\n",
        "\n",
        "            t_c = tf.convert_to_tensor(list_title_c)\n",
        "            t_c = tf.reshape(t_c, (batch_size, TOTAL_CANDIDATE_NEW, title_length))\n",
        "\n",
        "            b_c = tf.convert_to_tensor(list_body_c)\n",
        "            b_c = tf.reshape(b_c, (batch_size, TOTAL_CANDIDATE_NEW, body_length))\n",
        "            yield ([c_b, sc_b, t_b, b_b, c_c, sc_c, t_c, b_c], np.array(y))\n",
        "            y=[]\n",
        "            list_category_c=[]\n",
        "            list_subcategory_c=[]\n",
        "            list_title_c=[]\n",
        "            list_body_c=[]\n",
        "            list_category_b=[]\n",
        "            list_subcategory_b=[]\n",
        "            list_title_b=[]\n",
        "            list_body_b=[]"
      ]
    },
    {
      "cell_type": "code",
      "source": [
        "y_true = []\n",
        "def make_data4test(df):\n",
        "    global y_true\n",
        "    y=[]\n",
        "    list_category_c=[]\n",
        "    list_subcategory_c=[]\n",
        "    list_title_c=[]\n",
        "    list_body_c=[]\n",
        "    list_category_b=[]\n",
        "    list_subcategory_b=[]\n",
        "    list_title_b=[]\n",
        "    list_body_b=[]\n",
        "    df.index = range(1, len(df) + 1)\n",
        "    for i, user in df.iterrows():\n",
        "        # Xử lý candidate_news\n",
        "        c_c = []\n",
        "        sc_c = []\n",
        "        t_c = []\n",
        "        b_c = []\n",
        "        pos = []\n",
        "        neg = []\n",
        "        yy = []\n",
        "        for candidate_new in user[4].split(): # Duyệt các cadidate\n",
        "            candidate_split = candidate_new.split('-')\n",
        "            if int(candidate_split[1]) == 1:\n",
        "                pos.append(candidate_new)\n",
        "            else:\n",
        "                neg.append(candidate_new)\n",
        "        my_list = pos[:min(4, len(pos))] + neg[:min(4, len(neg))] + ['none'] * (8 - min(4, len(pos)) - min(4, len(neg)))\n",
        "        # Trộn các bài candidate_new\n",
        "        random.shuffle(my_list)\n",
        "        for candidate_new in my_list:\n",
        "            candidate_split = candidate_new.split('-')\n",
        "            if candidate_split[0] != 'none':\n",
        "                data = news_dict1[candidate_split[0]]\n",
        "                y.append(int(candidate_split[1]))\n",
        "                list_category_c.append(data[0])\n",
        "                list_subcategory_c.append(data[1])\n",
        "                list_title_c.append(data[2])\n",
        "                list_body_c.append(data[3])\n",
        "            else:\n",
        "                y.append(int(0))\n",
        "                list_category_c.append(np.zeros(1))\n",
        "                list_subcategory_c.append(np.zeros(1))\n",
        "                list_title_c.append(np.zeros(title_length))\n",
        "                list_body_c.append(np.zeros(body_length))\n",
        "        # Xử lý browsed_news\n",
        "        c_bn = [np.zeros(1) for x in range(TOTAL_BROWSE_NEW)]\n",
        "        sc_bn = [np.zeros(1) for x in range(TOTAL_BROWSE_NEW)]\n",
        "        t_bn = [np.zeros(title_length) for x in range(TOTAL_BROWSE_NEW)]\n",
        "        b_bn = [np.zeros(body_length) for x in range(TOTAL_BROWSE_NEW)]\n",
        "        for j, bnew in enumerate(user[3].split()):\n",
        "            if j < TOTAL_BROWSE_NEW:\n",
        "                new = news_dict1[bnew]\n",
        "                c_bn[j] = new[0]\n",
        "                sc_bn[j] = new[1]\n",
        "                t_bn[j] = new[2]\n",
        "                b_bn[j] = new[3]\n",
        "            else:\n",
        "                break\n",
        "        for _ in range(8):\n",
        "            list_category_b.append(c_bn)\n",
        "            list_subcategory_b.append(sc_bn)\n",
        "            list_title_b.append(t_bn)\n",
        "            list_body_b.append(b_bn)\n",
        "        if i % 4 == 0:\n",
        "            c_b = tf.convert_to_tensor(list_category_b)\n",
        "            c_b = tf.reshape(c_b, (batch_size, TOTAL_BROWSE_NEW, 1))\n",
        "\n",
        "            sc_b = tf.convert_to_tensor(list_subcategory_b)\n",
        "            sc_b = tf.reshape(sc_b, (batch_size, TOTAL_BROWSE_NEW, 1))\n",
        "\n",
        "            t_b = tf.convert_to_tensor(list_title_b)\n",
        "            t_b = tf.reshape(t_b, (batch_size, TOTAL_BROWSE_NEW, title_length))\n",
        "\n",
        "            b_b = tf.convert_to_tensor(list_body_b)\n",
        "            b_b = tf.reshape(b_b, (batch_size, TOTAL_BROWSE_NEW, body_length))\n",
        "\n",
        "            c_c = tf.convert_to_tensor(list_category_c)\n",
        "            c_c = tf.reshape(c_c, (batch_size, 1))\n",
        "\n",
        "            sc_c = tf.convert_to_tensor(list_subcategory_c)\n",
        "            sc_c = tf.reshape(sc_c, (batch_size, 1))\n",
        "\n",
        "            t_c = tf.convert_to_tensor(list_title_c)\n",
        "            t_c = tf.reshape(t_c, (batch_size, title_length))\n",
        "\n",
        "            b_c = tf.convert_to_tensor(list_body_c)\n",
        "            b_c = tf.reshape(b_c, (batch_size, body_length))\n",
        "            y_true = y_true + y\n",
        "            yield ([c_b, sc_b, t_b, b_b, c_c, sc_c, t_c, b_c], np.array(y))\n",
        "            y=[]\n",
        "            list_category_c=[]\n",
        "            list_subcategory_c=[]\n",
        "            list_title_c=[]\n",
        "            list_body_c=[]\n",
        "            list_category_b=[]\n",
        "            list_subcategory_b=[]\n",
        "            list_title_b=[]\n",
        "            list_body_b=[]"
      ],
      "metadata": {
        "id": "qkR2pMlCs4j3"
      },
      "execution_count": null,
      "outputs": []
    },
    {
      "cell_type": "code",
      "source": [
        "# def testfunc(df):\n",
        "#     y=[]\n",
        "#     list_category_c=[]\n",
        "#     list_subcategory_c=[]\n",
        "#     list_title_c=[]\n",
        "#     list_body_c=[]\n",
        "#     list_category_b=[]\n",
        "#     list_subcategory_b=[]\n",
        "#     list_title_b=[]\n",
        "#     list_body_b=[]\n",
        "#     df.index = range(1, len(df) + 1)\n",
        "#     for i, user in df.iterrows():\n",
        "#         # Xử lý candidate_news\n",
        "#         c_c = []\n",
        "#         sc_c = []\n",
        "#         t_c = []\n",
        "#         b_c = []\n",
        "#         pos = []\n",
        "#         neg = []\n",
        "#         yy = []\n",
        "#         for candidate_new in user[4].split(): # Duyệt các cadidate\n",
        "#             candidate_split = candidate_new.split('-')\n",
        "#             if int(candidate_split[1]) == 1:\n",
        "#                 pos.append(candidate_new)\n",
        "#             else:\n",
        "#                 neg.append(candidate_new)\n",
        "#         my_list = pos[:min(4, len(pos))] + neg[:min(4, len(neg))] + ['none'] * (8 - min(4, len(pos)) - min(4, len(neg)))\n",
        "#         # Trộn các bài candidate_new\n",
        "#         random.shuffle(my_list)\n",
        "#         for candidate_new in my_list:\n",
        "#             candidate_split = candidate_new.split('-')\n",
        "#             if candidate_split[0] != 'none':\n",
        "#                 data = news_dict1[candidate_split[0]]\n",
        "#                 y.append(int(candidate_split[1]))\n",
        "#                 yy.append(int(candidate_split[1]))\n",
        "#                 list_category_c.append(data[0])\n",
        "#                 list_subcategory_c.append(data[1])\n",
        "#                 list_title_c.append(data[2])\n",
        "#                 list_body_c.append(data[3])\n",
        "#             else:\n",
        "#                 y.append(int(0))\n",
        "#                 yy.append(int(0))\n",
        "#                 list_category_c.append(np.zeros(1))\n",
        "#                 list_subcategory_c.append(np.zeros(1))\n",
        "#                 list_title_c.append(np.zeros(title_length))\n",
        "#                 list_body_c.append(np.zeros(body_length))\n",
        "#         yy = np.array(yy)\n",
        "#         if np.sum(yy) == 0:\n",
        "#             print(i)\n",
        "#         # Xử lý browsed_news\n",
        "#         c_bn = [np.zeros(1) for x in range(TOTAL_BROWSE_NEW)]\n",
        "#         sc_bn = [np.zeros(1) for x in range(TOTAL_BROWSE_NEW)]\n",
        "#         t_bn = [np.zeros(title_length) for x in range(TOTAL_BROWSE_NEW)]\n",
        "#         b_bn = [np.zeros(body_length) for x in range(TOTAL_BROWSE_NEW)]\n",
        "#         for j, bnew in enumerate(user[3].split()):\n",
        "#             if j < TOTAL_BROWSE_NEW:\n",
        "#                 new = news_dict1[bnew]\n",
        "#                 c_bn[j] = new[0]\n",
        "#                 sc_bn[j] = new[1]\n",
        "#                 t_bn[j] = new[2]\n",
        "#                 b_bn[j] = new[3]\n",
        "#             else:\n",
        "#                 break\n",
        "#         for _ in range(8):\n",
        "#             list_category_b.append(c_bn)\n",
        "#             list_subcategory_b.append(sc_bn)\n",
        "#             list_title_b.append(t_bn)\n",
        "#             list_body_b.append(b_bn)\n",
        "#         if i % 4 == 0:\n",
        "#             c_b = tf.convert_to_tensor(list_category_b)\n",
        "#             c_b = tf.reshape(c_b, (batch_size, TOTAL_BROWSE_NEW, 1))\n",
        "\n",
        "#             sc_b = tf.convert_to_tensor(list_subcategory_b)\n",
        "#             sc_b = tf.reshape(sc_b, (batch_size, TOTAL_BROWSE_NEW, 1))\n",
        "\n",
        "#             t_b = tf.convert_to_tensor(list_title_b)\n",
        "#             t_b = tf.reshape(t_b, (batch_size, TOTAL_BROWSE_NEW, title_length))\n",
        "\n",
        "#             b_b = tf.convert_to_tensor(list_body_b)\n",
        "#             b_b = tf.reshape(b_b, (batch_size, TOTAL_BROWSE_NEW, body_length))\n",
        "\n",
        "#             c_c = tf.convert_to_tensor(list_category_c)\n",
        "#             c_c = tf.reshape(c_c, (batch_size, 1))\n",
        "\n",
        "#             sc_c = tf.convert_to_tensor(list_subcategory_c)\n",
        "#             sc_c = tf.reshape(sc_c, (batch_size, 1))\n",
        "\n",
        "#             t_c = tf.convert_to_tensor(list_title_c)\n",
        "#             t_c = tf.reshape(t_c, (batch_size, title_length))\n",
        "\n",
        "#             b_c = tf.convert_to_tensor(list_body_c)\n",
        "#             b_c = tf.reshape(b_c, (batch_size, body_length))\n",
        "#             y=[]\n",
        "#             list_category_c=[]\n",
        "#             list_subcategory_c=[]\n",
        "#             list_title_c=[]\n",
        "#             list_body_c=[]\n",
        "#             list_category_b=[]\n",
        "#             list_subcategory_b=[]\n",
        "#             list_title_b=[]\n",
        "#             list_body_b=[]\n",
        "\n",
        "# num_sample = len(df_behavior4train[0])\n",
        "# num_train = int(num_sample * 0.9)\n",
        "# testfunc(df_behavior4train.iloc[num_train:])"
      ],
      "metadata": {
        "id": "8l4OaF_JIvXt"
      },
      "execution_count": null,
      "outputs": []
    },
    {
      "cell_type": "markdown",
      "metadata": {
        "id": "5Wd_ZI-HAVhS"
      },
      "source": [
        "# Model"
      ]
    },
    {
      "cell_type": "markdown",
      "metadata": {
        "id": "HnwzNL-KBgrD"
      },
      "source": [
        "## News Encoder"
      ]
    },
    {
      "cell_type": "code",
      "execution_count": null,
      "metadata": {
        "id": "tTM0ADUnrs_s"
      },
      "outputs": [],
      "source": [
        "from tensorflow.keras import layers"
      ]
    },
    {
      "cell_type": "markdown",
      "metadata": {
        "id": "CtlYA4IYIrJI"
      },
      "source": [
        "### Title"
      ]
    },
    {
      "cell_type": "code",
      "execution_count": null,
      "metadata": {
        "id": "fIaVtrssXNxs"
      },
      "outputs": [],
      "source": [
        "class AttetionBlock(Layer):\n",
        "    def __init__(self, **kwargs):\n",
        "        super(AttetionBlock, self).__init__(**kwargs)\n",
        "        self.dense1 = Dense(200, activation='tanh')\n",
        "        self.dense2 = Dense(1)\n",
        "        self.flatten = Flatten()\n",
        "        self.activation = Activation('softmax')\n",
        "        self.dot = Dot((1, 1))\n",
        "\n",
        "    def call(self, inputs):\n",
        "        x = self.dense1(inputs)\n",
        "        x = self.dense2(x)\n",
        "        x = self.flatten(x)\n",
        "        W = self.activation(x)\n",
        "        outputs = self.dot([inputs, W])\n",
        "        return outputs"
      ]
    },
    {
      "cell_type": "code",
      "execution_count": null,
      "metadata": {
        "id": "VV_6RGMP2c0Z"
      },
      "outputs": [],
      "source": [
        "class TitleBlock(Layer):\n",
        "    def __init__(self, vocab_size=title_vocab, vector_dim=title_dim, sent_length=title_length):\n",
        "        super(TitleBlock, self).__init__()\n",
        "        self.embedding = Embedding(input_dim=vocab_size, output_dim=vector_dim, input_length=sent_length)\n",
        "        self.dropout = Dropout(0.2)\n",
        "        self.conv = Conv1D(filters=300, kernel_size=3, padding='same')\n",
        "        self.bn = BatchNormalization()\n",
        "        self.attention = AttetionBlock()\n",
        "\n",
        "    def call(self, input_onehot):\n",
        "        x = self.embedding(input_onehot)\n",
        "        x = self.dropout(x)\n",
        "        x = self.conv(x)\n",
        "        x = self.dropout(x)\n",
        "        x = self.bn(x)\n",
        "        x = self.attention(x)\n",
        "        return x"
      ]
    },
    {
      "cell_type": "markdown",
      "metadata": {
        "id": "GZEk0kvJI5V3"
      },
      "source": [
        "### Body"
      ]
    },
    {
      "cell_type": "code",
      "execution_count": null,
      "metadata": {
        "id": "myeuos1OpGy8"
      },
      "outputs": [],
      "source": [
        "class BodyBlock(layers.Layer):\n",
        "    def __init__(self, vocab_size=body_vocab, vector_dim=body_dim, sent_length=body_length):\n",
        "        super(BodyBlock, self).__init__()\n",
        "        self.embedding = Embedding(input_dim=vocab_size, output_dim=vector_dim, input_length=sent_length)\n",
        "        self.dropout = Dropout(0.2)\n",
        "        self.conv = Conv1D(filters=300, kernel_size=3, padding='same')\n",
        "        self.bn = BatchNormalization()\n",
        "        self.attention = AttetionBlock()\n",
        "\n",
        "    def call(self, input_onehot):\n",
        "        x = self.embedding(input_onehot)\n",
        "        x = self.dropout(x)\n",
        "        x = self.conv(x)\n",
        "        x = self.dropout(x)\n",
        "        x = self.bn(x)\n",
        "        x = self.attention(x)\n",
        "        return x"
      ]
    },
    {
      "cell_type": "markdown",
      "metadata": {
        "id": "nnSdWKEdI7s_"
      },
      "source": [
        "### Categories"
      ]
    },
    {
      "cell_type": "code",
      "execution_count": null,
      "metadata": {
        "id": "4f2YmNHNU00g"
      },
      "outputs": [],
      "source": [
        "class CategoryBlock(layers.Layer):\n",
        "    def __init__(self, vocab_size=category_vocab, vector_dim=category_dim, sent_length=category_length):\n",
        "        super(CategoryBlock, self).__init__()\n",
        "        self.embedding = Embedding(input_dim=vocab_size, output_dim=vector_dim, input_length=sent_length)\n",
        "        self.dense = Dense(300, activation='relu') # = filters\n",
        "\n",
        "    def call(self, input):\n",
        "        x = self.embedding(input)\n",
        "        x = self.dense(Flatten()(x))\n",
        "        return x"
      ]
    },
    {
      "cell_type": "markdown",
      "metadata": {
        "id": "M4RiHP0jXOK7"
      },
      "source": [
        "### Attention Pooling"
      ]
    },
    {
      "cell_type": "code",
      "execution_count": null,
      "metadata": {
        "id": "WVlurhdr4QPv"
      },
      "outputs": [],
      "source": [
        "class Attention_Pooling(Layer):\n",
        "    def __init__(self):\n",
        "        super(Attention_Pooling, self).__init__()\n",
        "        self.dense1 = Dense(200, activation='tanh')\n",
        "        self.dense2 = Dense(1)\n",
        "        self.lamda = Lambda(lambda x:K.squeeze(x,axis=-1))\n",
        "        self.activation = Activation('softmax')\n",
        "        self.dot = Dot((1, 1))\n",
        "\n",
        "    def call(self, inputs):\n",
        "        x = self.dense1(inputs)\n",
        "        W = self.dense2(x)\n",
        "        W = self.lamda(W)\n",
        "        W = self.activation(W)\n",
        "        outputs = self.dot([inputs, W])\n",
        "        return outputs"
      ]
    },
    {
      "cell_type": "code",
      "execution_count": null,
      "metadata": {
        "id": "qgiyIjsUU0sJ"
      },
      "outputs": [],
      "source": [
        "class NewEncoder(Model):\n",
        "    def __init__(self):\n",
        "        super(NewEncoder, self).__init__()\n",
        "        self.title = TitleBlock()\n",
        "        self.body = BodyBlock()\n",
        "        self.category = CategoryBlock()\n",
        "        self.sub_category = CategoryBlock(vocab_size=subcategory_vocab, vector_dim=category_dim, sent_length=category_length)\n",
        "        self.attention = Attention_Pooling()\n",
        "\n",
        "    def call(self, input_new):\n",
        "        category = self.category(input_new[0])\n",
        "        sub_category = self.sub_category(input_new[1])\n",
        "        title = self.title(input_new[2])\n",
        "        body = self.body(input_new[3])\n",
        "        sample = [category, sub_category, title, body]\n",
        "        sample = Concatenate(axis=1)([K.expand_dims(x,axis=1) for x in sample])\n",
        "        x = self.attention(sample)\n",
        "        return x"
      ]
    },
    {
      "cell_type": "markdown",
      "metadata": {
        "id": "0a-Bd3akB0Ur"
      },
      "source": [
        "## User Encoder"
      ]
    },
    {
      "cell_type": "code",
      "execution_count": null,
      "metadata": {
        "id": "tjnXInuJZ9-4"
      },
      "outputs": [],
      "source": [
        "class UserEncoder(Layer): # Đầu vào là list browednews của từng\n",
        "    def __init__(self, newEncoder):\n",
        "        super(UserEncoder, self).__init__()\n",
        "        self.newEncoder = newEncoder\n",
        "        self.attention = AttetionBlock()\n",
        "\n",
        "    def call(self, input): # 32 4 30 x\n",
        "        browsednews = [self.newEncoder([input[0][i], input[1][i], input[2][i], input[3][i]]) for i in range(batch_size)] # 32 x (30, 200)\n",
        "        browsednews_matrix = concatenate([Lambda(lambda x: K.expand_dims(x,axis=0))(news) for news in browsednews],axis=0)\n",
        "        x = self.attention(browsednews_matrix) # 32, 300\n",
        "        return x\n"
      ]
    },
    {
      "cell_type": "markdown",
      "metadata": {
        "id": "V8QgXlKACAp8"
      },
      "source": [
        "## Click Predictor"
      ]
    },
    {
      "cell_type": "code",
      "execution_count": null,
      "metadata": {
        "id": "Qvd0SvXCsILn"
      },
      "outputs": [],
      "source": [
        "class ClickPredictor(Layer): # for train\n",
        "    def __init__(self):\n",
        "        super(ClickPredictor, self).__init__()\n",
        "        self.activation = Activation('softmax')\n",
        "\n",
        "    def call(self, browsed_news, candidate_news): #(32, 200) and 32x(5,200)\n",
        "        browsed_news = tf.reshape(browsed_news, (batch_size, filters)) # (32, 200)\n",
        "        candidate_news = tf.reshape(candidate_news, (batch_size, TOTAL_CANDIDATE_NEW, filters)) # (32, 5, 200)\n",
        "        candidate_news = [candidate_news[:,i,:] for i in range(candidate_news.shape[1])] # 5 x (32, 200)\n",
        "        x = [keras.layers.dot([browsed_news, candidate], axes=-1) for candidate in candidate_news]\n",
        "        x = keras.layers.concatenate(x) # (32, 5)\n",
        "        x = self.activation(x)\n",
        "        return x"
      ]
    },
    {
      "cell_type": "code",
      "source": [
        "class ClickScore(Layer): # for test\n",
        "    def __init__(self):\n",
        "        super(ClickScore, self).__init__()\n",
        "        self.activation = Activation('sigmoid')\n",
        "\n",
        "    def call(self, browsed_news, candidate): #(32, 200) and (32, 200)\n",
        "        browsed_news = tf.reshape(browsed_news, (batch_size, filters)) # (32, 200)\n",
        "        candidate = tf.reshape(candidate, (batch_size, filters)) # (32, 200)\n",
        "        x = keras.layers.dot([browsed_news, candidate], axes=-1)\n",
        "        x = tf.squeeze(x)\n",
        "        x = self.activation(x)\n",
        "        return x"
      ],
      "metadata": {
        "id": "49BV2Hc3PP63"
      },
      "execution_count": null,
      "outputs": []
    },
    {
      "cell_type": "markdown",
      "metadata": {
        "id": "jI1NrKOAAlxS"
      },
      "source": [
        "# Trainning"
      ]
    },
    {
      "cell_type": "code",
      "execution_count": null,
      "metadata": {
        "id": "idshaUHdAcUC"
      },
      "outputs": [],
      "source": [
        "class ModelTrain(Model):\n",
        "    def __init__(self, newEncoder):\n",
        "        super(ModelTrain, self).__init__()\n",
        "        self.newEncoder = newEncoder\n",
        "        self.user_encoder = UserEncoder(self.newEncoder)\n",
        "        self.click_predictor = ClickPredictor()\n",
        "\n",
        "    def call(self, inputs): # 32, 5, 20\n",
        "        user_encoder = self.user_encoder([inputs[0], inputs[1], inputs[2], inputs[3]]) # 32 x (200)\n",
        "        candidate_encoders = [self.newEncoder([inputs[4][i], inputs[5][i], inputs[6][i], inputs[7][i]]) for i in range(batch_size)] # 32 x (5, 200)\n",
        "        outputs = self.click_predictor(user_encoder, candidate_encoders)\n",
        "        return outputs"
      ]
    },
    {
      "cell_type": "code",
      "source": [
        "class ModelTest(Model):\n",
        "    def __init__(self, newEncoder):\n",
        "        super(ModelTest, self).__init__()\n",
        "        self.newEncoder = newEncoder\n",
        "        self.user_encoder = UserEncoder(self.newEncoder)\n",
        "        self.click_score = ClickScore()\n",
        "\n",
        "    def call(self, inputs): # 32, 5, 20\n",
        "        user_encoder = self.user_encoder([inputs[0], inputs[1], inputs[2], inputs[3]]) # 32 x (200)\n",
        "        candidate = self.newEncoder([inputs[4], inputs[5], inputs[6], inputs[7]]) # (32, 200)\n",
        "        outputs = self.click_score(user_encoder, candidate) # (32, )\n",
        "        return outputs"
      ],
      "metadata": {
        "id": "cl8_5jUpPLJG"
      },
      "execution_count": null,
      "outputs": []
    },
    {
      "cell_type": "code",
      "execution_count": null,
      "metadata": {
        "id": "0Zu0-c6d1nOQ"
      },
      "outputs": [],
      "source": [
        "newEncoder = NewEncoder()\n",
        "model_train = ModelTrain(newEncoder)\n",
        "model_train.compile(\n",
        "    optimizer=keras.optimizers.Adam(learning_rate=0.001),\n",
        "    loss='categorical_crossentropy',\n",
        "    metrics=[\"accuracy\"]\n",
        ")\n",
        "\n",
        "n = len(df_behavior4train[0])\n",
        "num_sample = int(n * 0.1)\n",
        "df_beta = df_behavior4train.iloc[:num_sample]\n",
        "num_train = int(len(df_beta[0]) * 0.95)\n",
        "for ep in range(3):\n",
        "    data_train = make_data4train(df_beta.iloc[:num_train])\n",
        "    model_train.fit_generator(data_train, epochs=1, steps_per_epoch=num_train//batch_size)"
      ]
    },
    {
      "cell_type": "code",
      "source": [
        "data_test = make_data4test(df_beta.iloc[num_train:])\n",
        "num_test = int(len(df_beta.iloc[num_train:][0]))\n",
        "model_test = ModelTest(newEncoder)\n",
        "y_pred = model_test.predict_generator(data_test, steps=num_test//4,verbose=2)\n",
        "y_true = np.array(y_true)"
      ],
      "metadata": {
        "id": "S4iuQGVd7PTF",
        "colab": {
          "base_uri": "https://localhost:8080/"
        },
        "outputId": "259cee05-d9a3-4cfd-e05a-902de1563465"
      },
      "execution_count": null,
      "outputs": [
        {
          "output_type": "stream",
          "name": "stderr",
          "text": [
            "<ipython-input-40-eba0c610616a>:4: UserWarning: `Model.predict_generator` is deprecated and will be removed in a future version. Please use `Model.predict`, which supports generators.\n",
            "  y_pred = model_test.predict_generator(data_test, steps=num_test//4,verbose=2)\n"
          ]
        },
        {
          "output_type": "stream",
          "name": "stdout",
          "text": [
            "196/196 - 239s - 239s/epoch - 1s/step\n"
          ]
        }
      ]
    },
    {
      "cell_type": "code",
      "source": [
        "from sklearn.metrics import roc_auc_score\n",
        "def dcg_score(y_true, y_score, k=10):\n",
        "    order = np.argsort(y_score)[::-1]\n",
        "    y_true = np.take(y_true, order[:k])\n",
        "    gains = 2 ** y_true - 1\n",
        "    discounts = np.log2(np.arange(len(y_true)) + 2)\n",
        "    return np.sum(gains / discounts)\n",
        "\n",
        "\n",
        "def ndcg_score(y_true, y_score, k=10):\n",
        "    best = dcg_score(y_true, y_true, k)\n",
        "    actual = dcg_score(y_true, y_score, k)\n",
        "    return actual / best\n",
        "\n",
        "\n",
        "def mrr_score(y_true, y_score):\n",
        "    order = np.argsort(y_score)[::-1]\n",
        "    y_true = np.take(y_true, order)\n",
        "    rr_score = y_true / (np.arange(len(y_true)) + 1)\n",
        "    return np.sum(rr_score) / np.sum(y_true)"
      ],
      "metadata": {
        "id": "7vr7s2dSV6id"
      },
      "execution_count": null,
      "outputs": []
    },
    {
      "cell_type": "code",
      "source": [
        "all_auc=[]\n",
        "all_mrr=[]\n",
        "all_ndcg5=[]\n",
        "all_ndcg10=[]\n",
        "for i in range(num_test-4):\n",
        "    all_auc.append(roc_auc_score(y_true[i*8:(i+1)*8], y_pred[i*8:(i+1)*8]))\n",
        "    all_mrr.append(mrr_score(y_true[i*8:(i+1)*8], y_pred[i*8:(i+1)*8]))\n",
        "    all_ndcg5.append(ndcg_score(y_true[i*8:(i+1)*8], y_pred[i*8:(i+1)*8], k=5))\n",
        "    all_ndcg10.append(ndcg_score(y_true[i*8:(i+1)*8], y_pred[i*8:(i+1)*8], k=10))\n",
        "print(np.mean(all_auc),np.mean(all_mrr),np.mean(all_ndcg5),np.mean(all_ndcg10))"
      ],
      "metadata": {
        "id": "SfaAO9CgV9tE",
        "colab": {
          "base_uri": "https://localhost:8080/"
        },
        "collapsed": true,
        "outputId": "7a77d7d2-71bc-4d1d-9f87-067c0b3273f0"
      },
      "execution_count": null,
      "outputs": [
        {
          "output_type": "stream",
          "name": "stdout",
          "text": [
            "0.30344643619291506 0.19725715403532307 0.21216026615931363 0.41952486422032925\n"
          ]
        }
      ]
    }
  ],
  "metadata": {
    "colab": {
      "provenance": [],
      "gpuType": "T4"
    },
    "kernelspec": {
      "display_name": "Python 3",
      "name": "python3"
    },
    "language_info": {
      "name": "python"
    },
    "accelerator": "GPU"
  },
  "nbformat": 4,
  "nbformat_minor": 0
}